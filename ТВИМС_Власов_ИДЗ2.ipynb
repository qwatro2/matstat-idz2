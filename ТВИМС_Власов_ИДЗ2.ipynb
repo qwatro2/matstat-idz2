{
  "cells": [
    {
      "cell_type": "markdown",
      "metadata": {
        "id": "R4lra430-fHC"
      },
      "source": [
        "# Математическая статистика. ИДЗ №2\n",
        "## Работу выполнил: Власов Николай Алексеевич, БПИ229\n",
        "### Вариант: 4"
      ]
    },
    {
      "cell_type": "markdown",
      "metadata": {
        "id": "DuqEPuee-fHD"
      },
      "source": [
        "### Условие\n",
        "Чувствительность канала изображения телевизора в метровом диапазоне измерялась (в мкВ) детектором №1 и детектором №2. В результате были получены следующие значения для детектора №1: \\\n",
        "$[20.5, 15.0, 21.5, 20.0, 19.0, 21.5, 19.0, 19.0, 24.0, 28.0, 24.0, 28.0, 24.0, 25.0, 29.0]$ \\\n",
        "Для детектора №2: \\\n",
        "$[23.8, 30.0, 27.8, 21.0, 28.6, 27.2, 23.1, 26.9, 25.9, 24.2, 31.2, 25.9, 23.1, 27.6, 26.2, 22.2]$ \\\n",
        "\\\n",
        "Можно ли считать на уровне значимости $0.05$, что результаты измерений чувствительности канала, полученные детектором №1 и детектором №2, в среднем одинаковы? Решите задачу, предполагая, что:\n",
        "<ol type=\"a\">\n",
        "<li>распределение контролируемого признака нормальное;</li>\n",
        "<li>распределение контролируемого признака неизвестно.</li>\n",
        "</ol>"
      ]
    },
    {
      "cell_type": "markdown",
      "metadata": {
        "id": "6ZQey-a9-fHE"
      },
      "source": [
        "#### Импорты"
      ]
    },
    {
      "cell_type": "code",
      "execution_count": 2,
      "metadata": {
        "id": "djB2f-tT-fHE"
      },
      "outputs": [],
      "source": [
        "import math\n",
        "import numpy as np\n",
        "import scipy\n",
        "\n",
        "np.random.seed(142857)"
      ]
    },
    {
      "cell_type": "markdown",
      "metadata": {
        "id": "A881JDsX-fHG"
      },
      "source": [
        "#### Данные"
      ]
    },
    {
      "cell_type": "code",
      "execution_count": 3,
      "metadata": {
        "id": "dUjuFqh0-fHG"
      },
      "outputs": [],
      "source": [
        "x = [20.5, 15.0, 21.5, 20.0, 19.0, 21.5, 19.0, 19.0, 24.0, 28.0, 24.0, 28.0, 24.0, 25.0, 29.0]\n",
        "y = [23.8, 30.0, 27.8, 21.0, 28.6, 27.2, 23.1, 26.9, 25.9, 24.2, 31.2, 25.9, 23.1, 27.6, 26.2, 22.2]"
      ]
    },
    {
      "cell_type": "markdown",
      "metadata": {
        "id": "DLFLMJS1-fHG"
      },
      "source": [
        "#### Выборочные средние и дисперсии"
      ]
    },
    {
      "cell_type": "code",
      "execution_count": 4,
      "metadata": {
        "id": "kw5ys7kN-fHG"
      },
      "outputs": [],
      "source": [
        "n_x = len(x)\n",
        "n_y = len(y)\n",
        "\n",
        "x_sr = np.mean(x)\n",
        "y_sr = np.mean(y)\n",
        "\n",
        "s_x = n_x / (n_x - 1) * np.mean([(x_i - x_sr)**2 for x_i in x])\n",
        "s_y = n_y / (n_y - 1) * np.mean([(y_i - y_sr)**2 for y_i in y])"
      ]
    },
    {
      "cell_type": "code",
      "execution_count": 5,
      "metadata": {
        "colab": {
          "base_uri": "https://localhost:8080/"
        },
        "id": "-Yh0f-c1-fHG",
        "outputId": "1bfbee6c-70c2-468f-8f48-4d075c5cb46b"
      },
      "outputs": [
        {
          "output_type": "stream",
          "name": "stdout",
          "text": [
            "Первая выборка:\n",
            "\tДлина: 15\n",
            "\tВыборочное среднее: 22.500\n",
            "\tИсправленная выборочная дисперсия: 15.786\n",
            "Вторая выборка:\n",
            "\tДлина: 16\n",
            "\tВыборочное среднее: 25.919\n",
            "\tИсправленная выборочная дисперсия: 8.143\n"
          ]
        }
      ],
      "source": [
        "print(\"Первая выборка:\")\n",
        "print(f\"\\tДлина: {n_x}\")\n",
        "print(f\"\\tВыборочное среднее: {x_sr:.3f}\")\n",
        "print(f\"\\tИсправленная выборочная дисперсия: {s_x:.3f}\")\n",
        "print(\"Вторая выборка:\")\n",
        "print(f\"\\tДлина: {n_y}\")\n",
        "print(f\"\\tВыборочное среднее: {y_sr:.3f}\")\n",
        "print(f\"\\tИсправленная выборочная дисперсия: {s_y:.3f}\")"
      ]
    },
    {
      "cell_type": "markdown",
      "metadata": {
        "id": "iAEo352F-fHH"
      },
      "source": [
        "Сформулируем гипотезу и альтернативу: \\\n",
        "$H_0$: $m_x$ = $m_y$ \\\n",
        "$H_A$: $m_x \\neq m_y$"
      ]
    },
    {
      "cell_type": "markdown",
      "metadata": {
        "id": "yqDz3wgb-fHH"
      },
      "source": [
        "### Пункт a"
      ]
    },
    {
      "cell_type": "markdown",
      "metadata": {
        "id": "geYDrznT-fHH"
      },
      "source": [
        "Рассмотрим статистику, имеющую распределение Стьюдента\n",
        "$$\n",
        "    T = \\frac{\\bar{X} - \\bar{Y}}{\\sqrt{\\frac{n_Xs_X^2 + n_Ys_Y^2}{n_X + n_Y - 2}(\\frac{1}{n_X} + \\frac{1}{n_Y})}}\n",
        "$$"
      ]
    },
    {
      "cell_type": "code",
      "execution_count": 6,
      "metadata": {
        "colab": {
          "base_uri": "https://localhost:8080/"
        },
        "id": "3AbA3KBw-fHI",
        "outputId": "afc4320c-07fd-4fe3-aa53-70ac5fe7a593"
      },
      "outputs": [
        {
          "output_type": "stream",
          "name": "stdout",
          "text": [
            "Статистика T = -2.674\n"
          ]
        }
      ],
      "source": [
        "def T():\n",
        "    numer = x_sr - y_sr\n",
        "\n",
        "    denum_frac_numer = n_x * s_x + n_y * s_y\n",
        "    denum_frac_denum = n_x + n_y - 2\n",
        "    denum_frac = denum_frac_numer / denum_frac_denum\n",
        "    denum_nd_mult = 1 / n_x + 1 / n_y\n",
        "    denum= math.sqrt(denum_frac * denum_nd_mult)\n",
        "\n",
        "    return numer / denum\n",
        "\n",
        "t = T()\n",
        "print(f\"Статистика T = {t:.3f}\")"
      ]
    },
    {
      "cell_type": "markdown",
      "metadata": {
        "id": "lLvwJr8O-fHI"
      },
      "source": [
        "Альтернатива сформулирована через $\\neq$, следовательно критическая область двусторонняя, поэтому надо найти квантили t(0.025, 29) и t(0.975, 29)."
      ]
    },
    {
      "cell_type": "code",
      "execution_count": 7,
      "metadata": {
        "colab": {
          "base_uri": "https://localhost:8080/"
        },
        "id": "55Zgpn96-fHI",
        "outputId": "83f63107-aedb-401c-95b8-d3e1602610d4"
      },
      "outputs": [
        {
          "output_type": "stream",
          "name": "stdout",
          "text": [
            "t(0.025, 29) = -2.045\n",
            "t(0.975, 29) = 2.045\n"
          ]
        }
      ],
      "source": [
        "left, right = scipy.stats.t(df=n_x + n_y - 2).ppf((0.025, 0.975))\n",
        "print(f\"t(0.025, 29) = {left:.3f}\")\n",
        "print(f\"t(0.975, 29) = {right:.3f}\")"
      ]
    },
    {
      "cell_type": "code",
      "execution_count": 8,
      "metadata": {
        "colab": {
          "base_uri": "https://localhost:8080/"
        },
        "id": "BSCOhYBP-fHI",
        "outputId": "6ad10431-5267-43e2-c4a5-acda48cb96cc"
      },
      "outputs": [
        {
          "output_type": "stream",
          "name": "stdout",
          "text": [
            "Статистика попала в критическую область.\n"
          ]
        }
      ],
      "source": [
        "trust = left < t < right;\n",
        "if (trust):\n",
        "    print(\"Статистика попала в доверительную область.\")\n",
        "else:\n",
        "    print(\"Статистика попала в критическую область.\")"
      ]
    },
    {
      "cell_type": "markdown",
      "metadata": {
        "id": "k32K5ZyQ-fHJ"
      },
      "source": [
        "Следовательно, гипотезу мы отвергаем, т. е. результаты измерений чувствительности канала, полученные  детекторами, в среднем отличаются."
      ]
    },
    {
      "cell_type": "markdown",
      "metadata": {
        "id": "GCw7L4VV-fHJ"
      },
      "source": [
        "### Пункт b"
      ]
    },
    {
      "cell_type": "markdown",
      "metadata": {
        "id": "tuDoK7FV-fHJ"
      },
      "source": [
        "Применим критерий Вилкоксона: \\\n",
        "Сливаем и ранжируем выборки:"
      ]
    },
    {
      "cell_type": "code",
      "execution_count": null,
      "metadata": {
        "colab": {
          "base_uri": "https://localhost:8080/"
        },
        "id": "B9UlC8Bg-fHJ",
        "outputId": "8ba099c1-8ac6-46b6-a1e9-26bea2779cae"
      },
      "outputs": [
        {
          "output_type": "stream",
          "name": "stdout",
          "text": [
            "[[1, 15.0], [4, 19.0], [4, 19.0], [4, 19.0], [5, 20.0], [6, 20.5], [7, 21.0], [9, 21.5], [9, 21.5], [10, 22.2], [12, 23.1], [12, 23.1], [13, 23.8], [16, 24.0], [16, 24.0], [16, 24.0], [17, 24.2], [18, 25.0], [20, 25.9], [20, 25.9], [21, 26.2], [22, 26.9], [23, 27.2], [24, 27.6], [25, 27.8], [27, 28.0], [27, 28.0], [28, 28.6], [29, 29.0], [30, 30.0], [31, 31.2]]\n"
          ]
        }
      ],
      "source": [
        "merged = list([index + 1, value] for index, value in enumerate(sorted(x + y)))\n",
        "\n",
        "cur_ind = merged[-1][0]\n",
        "for i in range(n_x + n_y - 2, -1, -1):\n",
        "    if (merged[i][1] == merged[i + 1][1]):\n",
        "        merged[i][0] = cur_ind\n",
        "    else:\n",
        "        cur_ind = merged[i][0]\n",
        "\n",
        "print(merged)"
      ]
    },
    {
      "cell_type": "markdown",
      "metadata": {
        "id": "kxLtcyYa-fHJ"
      },
      "source": [
        "Теперь сопоставим полученные ранги со второй выборкой"
      ]
    },
    {
      "cell_type": "code",
      "execution_count": null,
      "metadata": {
        "colab": {
          "base_uri": "https://localhost:8080/"
        },
        "id": "UOlQKon1-fHJ",
        "outputId": "6b97ea7b-3ce7-42dd-a5f5-ff324887bf1b"
      },
      "outputs": [
        {
          "output_type": "stream",
          "name": "stdout",
          "text": [
            "[[7, 21.0], [10, 22.2], [12, 23.1], [12, 23.1], [13, 23.8], [17, 24.2], [20, 25.9], [20, 25.9], [21, 26.2], [22, 26.9], [23, 27.2], [24, 27.6], [25, 27.8], [28, 28.6], [30, 30.0], [31, 31.2]]\n"
          ]
        }
      ],
      "source": [
        "y_ranged = []\n",
        "y_sorted = list(sorted(y));\n",
        "\n",
        "i = 0\n",
        "for value in y_sorted:\n",
        "    while (value != merged[i][1]):\n",
        "        i += 1\n",
        "    y_ranged.append(merged[i])\n",
        "    while i + 1 != n_x + n_y and merged[i][1] == merged[i + 1][1]:\n",
        "        i += 1\n",
        "\n",
        "print(y_ranged)\n",
        "assert(len(y_ranged) == n_y)\n",
        "assert(all(y_ranged[i][1] == y_sorted[i] for i in range(n_y)))"
      ]
    },
    {
      "cell_type": "markdown",
      "metadata": {
        "id": "wyWKTUXb-fHK"
      },
      "source": [
        "Найдем $W_{15, 16} = \\sum_{i = 1}^{16}R_i$"
      ]
    },
    {
      "cell_type": "code",
      "execution_count": null,
      "metadata": {
        "colab": {
          "base_uri": "https://localhost:8080/"
        },
        "id": "bpwvExwL-fHK",
        "outputId": "e37c3784-ca99-43df-e704-c25d66315be7"
      },
      "outputs": [
        {
          "output_type": "stream",
          "name": "stdout",
          "text": [
            "W = 315\n"
          ]
        }
      ],
      "source": [
        "W = sum(y_ranged[i][0] for i in range(n_y))\n",
        "print(f\"{W = }\")"
      ]
    },
    {
      "cell_type": "markdown",
      "metadata": {
        "id": "rUXcfNJP-fHK"
      },
      "source": [
        "Теперь найдем $E\\{W_{15, 16}\\}, D\\{W_{15, 16}\\}$ по формулам из конспекта лекций"
      ]
    },
    {
      "cell_type": "code",
      "execution_count": null,
      "metadata": {
        "colab": {
          "base_uri": "https://localhost:8080/"
        },
        "id": "QEvlLgmX-fHK",
        "outputId": "a6a82735-2700-47d7-aa44-cd9754c454e9"
      },
      "outputs": [
        {
          "output_type": "stream",
          "name": "stdout",
          "text": [
            "E = 240.0\n",
            "D = 640.0\n"
          ]
        }
      ],
      "source": [
        "E = n_x * (n_x + n_y + 1) / 2\n",
        "D = n_x * n_y * (n_x + n_y + 1) / 12\n",
        "\n",
        "print(f\"{E = }\\n{D = }\")"
      ]
    },
    {
      "cell_type": "markdown",
      "metadata": {
        "id": "afeVl9AW-fHK"
      },
      "source": [
        "Теперь найдем $W_{15,26}^*$ по формуле из конспекта лекций"
      ]
    },
    {
      "cell_type": "code",
      "execution_count": null,
      "metadata": {
        "colab": {
          "base_uri": "https://localhost:8080/"
        },
        "id": "mheDQDso-fHK",
        "outputId": "bf34ef04-e021-42c5-a8e1-a0d2c85ba2c5"
      },
      "outputs": [
        {
          "output_type": "stream",
          "name": "stdout",
          "text": [
            "W* = 2.9646353064078554\n"
          ]
        }
      ],
      "source": [
        "W_starred = (W - E) / math.sqrt(D)\n",
        "print(f\"W* = {W_starred}\")"
      ]
    },
    {
      "cell_type": "markdown",
      "metadata": {
        "id": "LaVTQ8oX-fHK"
      },
      "source": [
        "Альтернатива сформулирована через $\\neq$, следовательно критическая область двусторонняя, поэтому надо найти квантили $Z_{0.025}$ и $Z_{0.975}$."
      ]
    },
    {
      "cell_type": "code",
      "execution_count": null,
      "metadata": {
        "colab": {
          "base_uri": "https://localhost:8080/"
        },
        "id": "BMA4y_VT-fHL",
        "outputId": "fe4cae91-c386-4ea0-c307-b021b2d27d82"
      },
      "outputs": [
        {
          "output_type": "stream",
          "name": "stdout",
          "text": [
            "Z_0.025 = -1.960\n",
            "Z_0.975 = 1.960\n"
          ]
        }
      ],
      "source": [
        "zleft, zright = scipy.stats.norm.ppf((0.025, 0.975))\n",
        "print(f\"Z_0.025 = {zleft:.3f}\")\n",
        "print(f\"Z_0.975 = {zright:.3f}\")"
      ]
    },
    {
      "cell_type": "code",
      "execution_count": null,
      "metadata": {
        "colab": {
          "base_uri": "https://localhost:8080/"
        },
        "id": "tiEj0ZbK-fHL",
        "outputId": "a9e4aaa2-23c0-4a76-dd7f-5fb16e197584"
      },
      "outputs": [
        {
          "output_type": "stream",
          "name": "stdout",
          "text": [
            "Статистика попала в критическую область.\n"
          ]
        }
      ],
      "source": [
        "ztrust = zleft < W_starred < zright;\n",
        "if (ztrust):\n",
        "    print(\"Статистика попала в доверительную область.\")\n",
        "else:\n",
        "    print(\"Статистика попала в критическую область.\")"
      ]
    },
    {
      "cell_type": "markdown",
      "metadata": {
        "id": "BS55hjnG-fHL"
      },
      "source": [
        "Следовательно, гипотезу мы отвергаем, т. е. результаты измерений чувствительности канала, полученные  детекторами, в среднем отличаются.\n"
      ]
    },
    {
      "cell_type": "markdown",
      "metadata": {
        "id": "U3tRnlhK-fHL"
      },
      "source": [
        "### Ответы\n",
        "<ol type=\"a\">\n",
        "<li>в среднем отличаются;</li>\n",
        "<li>в среднем отличаются.</li>\n",
        "</ol>"
      ]
    }
  ],
  "metadata": {
    "kernelspec": {
      "display_name": "venv",
      "language": "python",
      "name": "python3"
    },
    "language_info": {
      "codemirror_mode": {
        "name": "ipython",
        "version": 3
      },
      "file_extension": ".py",
      "mimetype": "text/x-python",
      "name": "python",
      "nbconvert_exporter": "python",
      "pygments_lexer": "ipython3",
      "version": "3.11.0"
    },
    "colab": {
      "provenance": []
    }
  },
  "nbformat": 4,
  "nbformat_minor": 0
}